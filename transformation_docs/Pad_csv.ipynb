{
 "cells": [
  {
   "cell_type": "code",
   "execution_count": null,
   "metadata": {
    "id": "mgfqRwStGvvU"
   },
   "outputs": [],
   "source": [
    "import pandas as pd\n",
    "\n",
    "def converter_csv_separador():\n",
    "    # Solicita o caminho do arquivo CSV ao usuário\n",
    "    caminho_arquivo = input(\"Por favor, insira o caminho do arquivo CSV: \")\n",
    "\n",
    "    # Tentativa de leitura do arquivo com separador \";\"\n",
    "    df = pd.read_csv(caminho_arquivo, sep=';')\n",
    "    print(\"O arquivo estava no formato com separador ';'. Convertendo para ','.\")\n",
    "    # Obtém o caminho para salvar o novo arquivo\n",
    "    novo_caminho_arquivo = caminho_arquivo.replace('.csv', '_pad.csv')\n",
    "    # Salva o arquivo convertido\n",
    "    df.to_csv(novo_caminho_arquivo, sep=',', index=False)\n",
    "    print(f\"Arquivo convertido salvo como: {novo_caminho_arquivo}\")\n",
    "\n",
    "\n",
    "\n",
    "# Chama a função\n",
    "converter_csv_separador()"
   ]
  }
 ],
 "metadata": {
  "colab": {
   "authorship_tag": "ABX9TyOzj20A2Ga7Y0cT++ff7sOx",
   "provenance": []
  },
  "kernelspec": {
   "display_name": "Python 3 (ipykernel)",
   "language": "python",
   "name": "python3"
  },
  "language_info": {
   "codemirror_mode": {
    "name": "ipython",
    "version": 3
   },
   "file_extension": ".py",
   "mimetype": "text/x-python",
   "name": "python",
   "nbconvert_exporter": "python",
   "pygments_lexer": "ipython3",
   "version": "3.12.4"
  }
 },
 "nbformat": 4,
 "nbformat_minor": 4
}
